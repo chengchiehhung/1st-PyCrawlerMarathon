{
 "cells": [
  {
   "cell_type": "markdown",
   "metadata": {},
   "source": [
    "# API 資料串接 - 以 Dcard API 實作範例\n",
    "\n",
    "* 了解 Dcard API 使用方式與回傳內容\n",
    "* 撰寫程式存取 API 且解析 JSON 格式資料\n"
   ]
  },
  {
   "cell_type": "markdown",
   "metadata": {},
   "source": [
    "## 作業目標\n",
    "\n",
    "* 請利用 API: https://www.dcard.tw/_api/forums/pet/posts?popular=true 回答下列問題：\n",
    "\n",
    "1. 這個 API 一次會回傳幾筆資料？每一筆資料包含哪些欄位？\n",
    "2. 取出每一筆資料的「標題」、「貼文時間」、「留言人數」、「按讚人數」\n",
    "3. 計算熱門/非熱門文章的「平均留言人數」與「平均按讚人數」"
   ]
  },
  {
   "cell_type": "code",
   "execution_count": 5,
   "metadata": {},
   "outputs": [
    {
     "name": "stdout",
     "output_type": "stream",
     "text": [
      "30\n",
      "['id', 'title', 'excerpt', 'anonymousSchool', 'anonymousDepartment', 'pinned', 'forumId', 'replyId', 'createdAt', 'updatedAt', 'commentCount', 'likeCount', 'withNickname', 'tags', 'topics', 'meta', 'forumName', 'forumAlias', 'nsfw', 'gender', 'school', 'department', 'replyTitle', 'mediaMeta', 'reactions', 'hidden', 'customStyle', 'isSuspiciousAccount', 'isModerator', 'layout', 'pinnedType', 'pinnedPriority', 'spoilerAlert', 'totalCommentCount', 'withImages', 'withVideos', 'media', 'reportReasonText', 'excerptComments', 'edited', 'postAvatar', 'activityAvatar', 'verifiedBadge', 'memberType']\n"
     ]
    }
   ],
   "source": [
    "# 1. 這個 API 一次會回傳幾筆資料？每一筆資料包含哪些欄位？\n",
    "\n",
    "import requests\n",
    "import json\n",
    "\n",
    "res = requests.get(\"https://www.dcard.tw/_api/forums/pet/posts?popular=true\").json()\n",
    "data_amount = len(res)\n",
    "cloumns = list(res[0].keys())\n",
    "print(data_amount)\n",
    "print(cloumns)"
   ]
  },
  {
   "cell_type": "code",
   "execution_count": 6,
   "metadata": {},
   "outputs": [
    {
     "name": "stdout",
     "output_type": "stream",
     "text": [
      "毛起來攝攝🎥！上傳最可愛的你家寵物影片吧🎉\n",
      "2021-10-21T12:52:23.598Z\n",
      "5\n",
      "121\n",
      "您的貓貓已登出\n",
      "2021-10-22T00:40:55.752Z\n",
      "16\n",
      "440\n",
      "把自己的房間變成貓貓的房間吧！\n",
      "2021-10-21T09:55:34.612Z\n",
      "19\n",
      "296\n",
      "長大不可愛了。\n",
      "2021-10-21T14:50:48.001Z\n",
      "53\n",
      "266\n",
      "遺失的蛋蛋\n",
      "2021-10-21T12:18:14.680Z\n",
      "30\n",
      "232\n",
      "這是什麼動物\n",
      "2021-10-21T01:07:32.914Z\n",
      "38\n",
      "206\n",
      "花生粉麻糬\n",
      "2021-10-21T05:15:56.791Z\n",
      "17\n",
      "139\n",
      "幫小橘貓找未來的主人\n",
      "2021-10-21T03:43:20.361Z\n",
      "13\n",
      "130\n",
      "唸書時的貓貓\n",
      "2021-10-21T06:23:42.584Z\n",
      "5\n",
      "116\n",
      "#毛攝攝 偷看的白貓\n",
      "2021-10-21T14:33:02.922Z\n",
      "14\n",
      "90\n",
      "兔奴家裡應該都有一台果乾機吧?\n",
      "2021-10-21T13:57:41.696Z\n",
      "14\n",
      "85\n",
      "洗牙讓你的喵喵變溫柔\n",
      "2021-10-21T06:09:59.016Z\n",
      "9\n",
      "64\n",
      "橘貓の微笑🐈\n",
      "2021-10-21T05:11:46.427Z\n",
      "1\n",
      "43\n",
      "#毛攝攝 看的你背脊發涼\n",
      "2021-10-22T02:39:12.404Z\n",
      "5\n",
      "42\n",
      "寵物保險 理賠過程分享\n",
      "2021-10-21T06:57:32.117Z\n",
      "14\n",
      "31\n",
      "別再說 10隻橘貓九個胖了\n",
      "2021-10-21T14:06:57.511Z\n",
      "0\n",
      "30\n",
      "你到底在派什麼？\n",
      "2021-10-21T16:09:46.260Z\n",
      "4\n",
      "27\n",
      "給我那個酷酷的東西！(˶‾᷄ ⁻̫ ‾᷅˵) #毛攝攝\n",
      "2021-10-22T04:43:33.221Z\n",
      "4\n",
      "23\n",
      "家裡到處基情四射🤭\n",
      "2021-10-21T16:06:22.803Z\n",
      "1\n",
      "22\n",
      "不良少女online (˶ ̇ ̵ ̇˶ )\n",
      "2021-10-21T12:12:56.149Z\n",
      "3\n",
      "21\n",
      "《性感黝黑亮眼黑妞找家》\n",
      "2021-10-21T11:20:29.290Z\n",
      "6\n",
      "20\n",
      "#毛攝攝 來看貓嗎？我家貓會跳舞\n",
      "2021-10-21T16:53:37.984Z\n",
      "5\n",
      "18\n",
      "狗狗奧運游泳選手柴柴 #毛攝攝\n",
      "2021-10-21T18:28:49.425Z\n",
      "0\n",
      "17\n",
      "#毛攝攝 來搶頭香ㄌ！\n",
      "2021-10-21T13:18:42.905Z\n",
      "3\n",
      "16\n",
      "有默契的兄妹倆\n",
      "2021-10-21T11:05:51.131Z\n",
      "2\n",
      "16\n",
      "三花英短小公主\n",
      "2021-10-21T09:05:05.584Z\n",
      "2\n",
      "16\n",
      "一歲生日快樂🎂肥貓貓\n",
      "2021-10-21T08:47:11.239Z\n",
      "4\n",
      "16\n",
      "你自己看現在都幾點了？\n",
      "2021-10-21T04:30:58.734Z\n",
      "0\n",
      "16\n",
      "這才是真的毛起來色色 #毛攝攝\n",
      "2021-10-22T02:19:27.723Z\n",
      "1\n",
      "14\n",
      "黑米🐈‍⬛\n",
      "2021-10-21T15:18:32.341Z\n",
      "7\n",
      "14\n"
     ]
    }
   ],
   "source": [
    "# 2. 取出每一筆資料的「標題」、「貼文時間」、「留言人數」、「按讚人數」\n",
    "\n",
    "for data in res:\n",
    "    print(data[\"title\"])\n",
    "    print(data[\"createdAt\"])\n",
    "    print(data[\"commentCount\"])\n",
    "    print(data[\"likeCount\"])"
   ]
  },
  {
   "cell_type": "code",
   "execution_count": 9,
   "metadata": {},
   "outputs": [
    {
     "name": "stdout",
     "output_type": "stream",
     "text": [
      "9.833333333333334 86.23333333333333\n",
      "1.4333333333333333 23.466666666666665\n"
     ]
    }
   ],
   "source": [
    "# 3. 計算熱門/非熱門文章的「平均留言人數」與「平均按讚人數」\n",
    "\n",
    "# popular\n",
    "comment_avg_count = 0\n",
    "like_avg_count = 0\n",
    "for data in res:\n",
    "    comment_avg_count += data[\"commentCount\"]\n",
    "    like_avg_count += data[\"likeCount\"]\n",
    "print(comment_avg_count/data_amount, like_avg_count/data_amount)\n",
    "\n",
    "# unpopular\n",
    "res = requests.get(\"https://www.dcard.tw/_api/forums/pet/posts?popular=false\").json()\n",
    "data_amount = len(res)\n",
    "comment_avg_count = 0\n",
    "like_avg_count = 0\n",
    "for data in res:\n",
    "    comment_avg_count += data[\"commentCount\"]\n",
    "    like_avg_count += data[\"likeCount\"]\n",
    "print(comment_avg_count/data_amount, like_avg_count/data_amount)\n"
   ]
  },
  {
   "cell_type": "code",
   "execution_count": null,
   "metadata": {},
   "outputs": [],
   "source": []
  }
 ],
 "metadata": {
  "interpreter": {
   "hash": "aee8b7b246df8f9039afb4144a1f6fd8d2ca17a180786b69acc140d282b71a49"
  },
  "kernelspec": {
   "display_name": "Python 3.8.5 64-bit",
   "name": "python3"
  },
  "language_info": {
   "codemirror_mode": {
    "name": "ipython",
    "version": 3
   },
   "file_extension": ".py",
   "mimetype": "text/x-python",
   "name": "python",
   "nbconvert_exporter": "python",
   "pygments_lexer": "ipython3",
   "version": "3.8.5"
  }
 },
 "nbformat": 4,
 "nbformat_minor": 2
}
